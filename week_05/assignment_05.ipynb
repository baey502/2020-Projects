{
 "cells": [
  {
   "cell_type": "markdown",
   "metadata": {},
   "source": [
    "### Getting into Class\n",
    "This exercise is to get you familiar with the idea of creating your own class object.\n",
    "\n",
    "This will create a generic Student class that we will be able to extend with other class objects.\n",
    "\n",
    "Your Class should be able to create an Student object instance with the following properties\n",
    "\n",
    "- Construct with default attributes for School Name, Student First Name, and Last Name\n",
    "- Methods to update any of these above attributes\n",
    "- An overloaded method for the str() function to return the Student attributes in a string formatted sentence \"{FirstName} {LastName} is a student of {SchoolName}\"\n",
    "\n",
    "You are free to implement this class however you like. The testing code is included below. Don't be afraid to check the [documentation]('https://docs.python.org/3/tutorial/classes.html') or any other resources you would like! Internet searching is a big part of promgramming"
   ]
  },
  {
   "cell_type": "code",
   "execution_count": 1,
   "metadata": {},
   "outputs": [
    {
     "name": "stdout",
     "output_type": "stream",
     "text": [
      "YoonJinBae is a student of Parsons School of Design and can be contacted through YoonJin_Bae@email.com\n",
      "TestUser is a student of School and can be contacted through Test_User@email.com\n"
     ]
    }
   ],
   "source": [
    "# code here\n",
    "\n",
    "class Student:\n",
    "    \n",
    "    def __init__(self, school, first, last, email):\n",
    "        self.school = school\n",
    "        self.first = first\n",
    "        self.last = last\n",
    "        self.email = first + '_' + last + '@email.com'\n",
    "        \n",
    "    def intro(self):\n",
    "        return '{}{} is a student of {} and can be contacted through {}'.format(self.first, self.last, self.school, self.email)\n",
    "        \n",
    "stu_1 = Student('Parsons School of Design', 'YoonJin', 'Bae', 'email')\n",
    "stu_2 = Student('School', 'Test', 'User', 'email')\n",
    "\n",
    "print(stu_1.intro())\n",
    "print(stu_2.intro())\n",
    "        "
   ]
  },
  {
   "cell_type": "markdown",
   "metadata": {},
   "source": [
    "### Challenges\n",
    "Before looking at any of these specific challenges, look back at the class you've created. Are there features of Students that you think are missing? Go ahead and just try and add them yourself! These can be things like registered classes, graduation year, enrollment status, etc. Anything you can think of! Class flexibility is designed so that your approach reflects your own personal understanding of the problem. But for a more structured challenge read on...\n",
    "\n",
    "The challenges here extend the functionality of the base class. These are in topics of class attributes, magic methods, inheritance, and iteration. Don't be afraid to check python documentation on these problems to look for implementation help! No one codes alone!\n",
    "\n",
    "Class is where your own ideas get to come through as a programmer and designer. So there is no one right way to any of these. Give it your best shot and also be creative!\n",
    "\n",
    "__Challenge #1__ add an class wide attribute student count and give every student an ID\n",
    "Create a Class wide count of students that tracks how many students have been created. Then, usi that attriute to give every student a unique ID.\n",
    "\n",
    "__Challenge #2__ add a behavioral method to the students\n",
    "What kind of behavior should a student have? What do they do? Do they study? Research? Maybe a student can declare a major or focus of study?\n",
    "\n",
    "Implement the method and the appropriate attributes that allows a student to print a statement about themselves. These can be as simple as \"say my own name\" or something like printing the student's favorite faculty member\n",
    "\n",
    "__Challenge #3__ create a subclass called Graduate Student\n",
    "The Graduate student should inherit from the base Student class. How do you think Graduate Students should be differentiated from the base Student? Add your own attribute or methods that you think they should have.\n",
    "\n",
    "__Challenge #4__ Create a School Class that has Students as attributes\n",
    "This is a separate class that is called School that can enroll Students, and graduate students. Maybe it can track its own endowment. This would be a large class that is meant to process these students in some way."
   ]
  },
  {
   "cell_type": "code",
   "execution_count": 2,
   "metadata": {},
   "outputs": [
    {
     "name": "stdout",
     "output_type": "stream",
     "text": [
      "Test User, 2020\n",
      "Total number of students is 3\n",
      "32020Bae\n"
     ]
    }
   ],
   "source": [
    "# challenge 1\n",
    "\n",
    "class Student:\n",
    "    count = 0\n",
    "    \n",
    "    def __init__(self, first, last, enteryr):\n",
    "        self.first = first\n",
    "        self.last = last\n",
    "        self.enteryr = enteryr\n",
    "        Student.count += 1\n",
    "        \n",
    "    def display(self):\n",
    "        return '{} {}, {}'.format(self.first, self.last, self.enteryr)\n",
    "        \n",
    "    def totalnum(self):\n",
    "        return 'Total number of students is {}'.format(Student.count)\n",
    "    \n",
    "    def uniqueid(self):\n",
    "        return'{}{}{}'.format(Student.count, self.enteryr, self.last)\n",
    "        \n",
    "stu_1 = Student('YoonJin', 'Bae', '2020')\n",
    "stu_2 = Student('Test', 'User', '2020')\n",
    "stu_3 = Student('Another', 'Tester', '20XX')\n",
    "\n",
    "print(stu_2.display())\n",
    "print(stu_3.totalnum())\n",
    "print(stu_1.uniqueid())"
   ]
  },
  {
   "cell_type": "code",
   "execution_count": 7,
   "metadata": {},
   "outputs": [
    {
     "name": "stdout",
     "output_type": "stream",
     "text": [
      "YoonJin Bae, DT, N/A, expected graduation year: 2022\n",
      "Test User, Major, Minor, expected graduation year: 20XX\n"
     ]
    }
   ],
   "source": [
    "# challenge 2\n",
    "\n",
    "class Student:\n",
    "    \n",
    "    def __init__(self, first, last, major, minor, gradyr):\n",
    "        self.first = first\n",
    "        self.last = last\n",
    "        self.major = major\n",
    "        self.minor = minor\n",
    "        self.gradyr = gradyr\n",
    "        \n",
    "    def tell(self):\n",
    "        return '{} {}, {}, {}, expected graduation year: {}'.format(self.first, self.last, self.major, self.minor, self.gradyr)\n",
    "  \n",
    "\n",
    "stu_1 = Student('YoonJin', 'Bae', 'DT', 'N/A', '2022')\n",
    "stu_2 = Student('Test', 'User', 'Major', 'Minor', '20XX')\n",
    "\n",
    "print(stu_1.tell())\n",
    "print(stu_2.tell())"
   ]
  },
  {
   "cell_type": "code",
   "execution_count": 14,
   "metadata": {},
   "outputs": [
    {
     "name": "stdout",
     "output_type": "stream",
     "text": [
      "N/A\n",
      "Submitted\n",
      "Thesis Paper: Submitted, Advisor: Advisor Name\n",
      "Test\n"
     ]
    }
   ],
   "source": [
    "# challenge 3\n",
    "class Student:\n",
    "    \n",
    "    def __init__(self, first, last, major):\n",
    "        self.first = first\n",
    "        self.last = last\n",
    "        self.major = major\n",
    "\n",
    "class Graduate (Student):\n",
    "    def __init__(self, first, last, major, advisor, thesis):\n",
    "        super().__init__(first, last, major)\n",
    "        self.advisor = advisor\n",
    "        self.thesis = thesis\n",
    "        \n",
    "    def graduation(self):\n",
    "        return 'Thesis Paper: {}, Advisor: {}'.format(self.thesis, self.advisor)\n",
    "        \n",
    "grad_1 = Graduate('YoonJin', 'Bae', 'DT', 'N/A', 'Not Submitted')\n",
    "grad_2 = Graduate('Test', 'User', 'Major', 'Advisor Name', 'Submitted')\n",
    "\n",
    "print(grad_1.advisor)\n",
    "print(grad_2.thesis)\n",
    "print(grad_2.graduation())"
   ]
  },
  {
   "cell_type": "code",
   "execution_count": 23,
   "metadata": {},
   "outputs": [
    {
     "name": "stdout",
     "output_type": "stream",
     "text": [
      "Name: YoonJin Bae, School: MFA DT, Remaining Credits: 30, Academic Standing: Good\n",
      "Name: Test User, School: BFA ID, Remaining Credits: 42, Academic Standing: Good\n"
     ]
    }
   ],
   "source": [
    "# challenge 4 \n",
    "\n",
    "class School:\n",
    "    count = 0\n",
    "    def __init__(self, studentype):\n",
    "        self.studentype = studentype\n",
    "        School.count += 1\n",
    "        \n",
    "    def totalnum(self):\n",
    "        return 'Total enrolled number of students is {}'.format(School.count)\n",
    "        \n",
    "class Student(School):\n",
    "    def __init__(self, studentype, name, creditsleft, acadstanding):\n",
    "        super().__init__(studentype)\n",
    "        self.name = name\n",
    "        self.creditsleft = creditsleft\n",
    "        self.acadstanding = acadstanding\n",
    "        \n",
    "    def process(self):\n",
    "        return 'Name: {}, School: {}, Remaining Credits: {}, Academic Standing: {}'.format(self.studentype, self.name, self.creditsleft, self.acadstanding)\n",
    "    \n",
    "stu_1 = Student('YoonJin Bae', 'MFA DT', '30', 'Good')\n",
    "stu_2 = Student('Test User', 'BFA ID', '42', 'Good')\n",
    "\n",
    "print(stu_1.process())\n",
    "print(stu_2.process())\n"
   ]
  },
  {
   "cell_type": "code",
   "execution_count": null,
   "metadata": {},
   "outputs": [],
   "source": []
  }
 ],
 "metadata": {
  "kernelspec": {
   "display_name": "Python 3",
   "language": "python",
   "name": "python3"
  },
  "language_info": {
   "codemirror_mode": {
    "name": "ipython",
    "version": 3
   },
   "file_extension": ".py",
   "mimetype": "text/x-python",
   "name": "python",
   "nbconvert_exporter": "python",
   "pygments_lexer": "ipython3",
   "version": "3.8.3"
  }
 },
 "nbformat": 4,
 "nbformat_minor": 4
}
