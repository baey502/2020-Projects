{
 "cells": [
  {
   "cell_type": "markdown",
   "metadata": {},
   "source": [
    "# Practice Exercise"
   ]
  },
  {
   "cell_type": "markdown",
   "metadata": {},
   "source": [
    "Exercise 1:"
   ]
  },
  {
   "cell_type": "code",
   "execution_count": null,
   "metadata": {},
   "outputs": [],
   "source": [
    "# using functions and nested functions reformat your calculator code\n",
    "# so users can use our calculator again and again!"
   ]
  },
  {
   "cell_type": "code",
   "execution_count": null,
   "metadata": {},
   "outputs": [
    {
     "name": "stdout",
     "output_type": "stream",
     "text": [
      "Enter first number:3\n",
      "Enter operator:+\n",
      "Enter second number:5\n",
      "8\n"
     ]
    }
   ],
   "source": [
    "while True:\n",
    "    x = int(input(\"Enter first number:\")) # wrap around integer method to convert strings into numbers\n",
    "    operator = input(\"Enter operator:\") # +-*/\n",
    "    y = int(input(\"Enter second number:\"))\n",
    "\n",
    "    if operator == \"+\":\n",
    "        print (x + y)\n",
    "    elif operator == \"-\":\n",
    "        print (x - y)\n",
    "    elif operator == \"*\":\n",
    "        print (x * y)\n",
    "    elif operator == \"/\":\n",
    "        print (x / y)\n",
    "    else:\n",
    "        print (\"something is wrong\")"
   ]
  },
  {
   "cell_type": "markdown",
   "metadata": {},
   "source": [
    "Exercise 2:"
   ]
  },
  {
   "cell_type": "code",
   "execution_count": null,
   "metadata": {},
   "outputs": [],
   "source": [
    "# Print the first 10 natural numbers using a loop \n",
    "\n",
    "# Expected output: \n",
    "# 0\n",
    "# 1\n",
    "# 2\n",
    "# 3\n",
    "# 4\n",
    "# 5\n",
    "# 6\n",
    "# 7\n",
    "# 8\n",
    "# 9\n",
    "# 10"
   ]
  },
  {
   "cell_type": "markdown",
   "metadata": {},
   "source": [
    "Write your code below:"
   ]
  },
  {
   "cell_type": "code",
   "execution_count": null,
   "metadata": {},
   "outputs": [],
   "source": [
    "x = 0\n",
    "while x <= 10:\n",
    "    print (x)\n",
    "    x += 1"
   ]
  },
  {
   "cell_type": "markdown",
   "metadata": {},
   "source": [
    "Exercise 3:"
   ]
  },
  {
   "cell_type": "code",
   "execution_count": null,
   "metadata": {},
   "outputs": [],
   "source": [
    "# Execute the loop in exercise 1 and print the message Done! after \n",
    "\n",
    "# Expected output: \n",
    "# 0\n",
    "# 1\n",
    "# 2\n",
    "# 3\n",
    "# 4\n",
    "# 5\n",
    "# 6\n",
    "# 7\n",
    "# 8\n",
    "# 9\n",
    "# 10\n",
    "# Done! "
   ]
  },
  {
   "cell_type": "markdown",
   "metadata": {},
   "source": [
    "Write your code below:"
   ]
  },
  {
   "cell_type": "code",
   "execution_count": null,
   "metadata": {},
   "outputs": [],
   "source": [
    "x = 0\n",
    "while x <= 10:\n",
    "    print (x)\n",
    "    x += 1\n",
    "    if x > 10:\n",
    "        print ('Done!')"
   ]
  },
  {
   "cell_type": "markdown",
   "metadata": {},
   "source": [
    "Exercise 4:"
   ]
  },
  {
   "cell_type": "code",
   "execution_count": null,
   "metadata": {},
   "outputs": [],
   "source": [
    "# Print the numbers greater than 150 from the list \n",
    "\n",
    "# list = [12, 15, 47, 63, 78, 101, 157, 178, 189]\n",
    "# Expected output: \n",
    "\n",
    "# 157\n",
    "# 178 \n",
    "# 189 "
   ]
  },
  {
   "cell_type": "markdown",
   "metadata": {},
   "source": [
    "Write your code below:"
   ]
  },
  {
   "cell_type": "code",
   "execution_count": null,
   "metadata": {},
   "outputs": [],
   "source": [
    "list = [12, 15, 47, 63, 78, 101, 157, 178, 189]\n",
    "\n",
    "for i in list:\n",
    "    if i > 150:\n",
    "        print(i)\n",
    "\n",
    "#print(list [6:9])\n",
    "\n"
   ]
  },
  {
   "cell_type": "markdown",
   "metadata": {},
   "source": [
    "Exercise 5:"
   ]
  },
  {
   "cell_type": "code",
   "execution_count": null,
   "metadata": {},
   "outputs": [],
   "source": [
    "# Print the number that is even and less than 150 \n",
    "\n",
    "# list = [12, 15, 47, 63, 78, 101, 157, 178, 189]\n",
    "# Expected output: \n",
    "\n",
    "# 12\n",
    "# 78\n",
    "\n",
    "# Hint: if you find a number greater than 150, stop the loop with a break"
   ]
  },
  {
   "cell_type": "markdown",
   "metadata": {},
   "source": [
    "Write your code below:"
   ]
  },
  {
   "cell_type": "code",
   "execution_count": null,
   "metadata": {},
   "outputs": [],
   "source": [
    "list = [12, 15, 47, 63, 78, 101, 157, 178, 189]\n",
    "\n",
    "for i in list:\n",
    "    if i < 150 and i % 2 == 0:\n",
    "        print(i)"
   ]
  },
  {
   "cell_type": "markdown",
   "metadata": {},
   "source": [
    "Exercise 6:"
   ]
  },
  {
   "cell_type": "code",
   "execution_count": null,
   "metadata": {},
   "outputs": [],
   "source": [
    "# This will be a challenging!\n",
    "\n",
    "# Write a while loop that flips a coin 10 times\n",
    "\n",
    "# Hint: Look into the random library using: \n",
    "# https://docs.python.org/3/library/random.html\n",
    "# https://www.pythonforbeginners.com/random/how-to-use-the-random-module-in-python"
   ]
  },
  {
   "cell_type": "markdown",
   "metadata": {},
   "source": [
    "Write your code below:"
   ]
  },
  {
   "cell_type": "code",
   "execution_count": null,
   "metadata": {},
   "outputs": [],
   "source": [
    "# importing the python random library\n",
    "import random\n",
    "\n",
    "def flipCoin(numberofflips):\n",
    "    heads = 0 \n",
    "    tails = 0\n",
    "    for i in range(numberofflips):\n",
    "        x = random.randint(1,2)\n",
    "        if x == 1:\n",
    "            print('heads')\n",
    "        if x ==2:\n",
    "            print('tails')\n",
    "            \n",
    "flipCoin(10)"
   ]
  },
  {
   "cell_type": "code",
   "execution_count": null,
   "metadata": {},
   "outputs": [],
   "source": []
  }
 ],
 "metadata": {
  "kernelspec": {
   "display_name": "Python 3",
   "language": "python",
   "name": "python3"
  },
  "language_info": {
   "codemirror_mode": {
    "name": "ipython",
    "version": 3
   },
   "file_extension": ".py",
   "mimetype": "text/x-python",
   "name": "python",
   "nbconvert_exporter": "python",
   "pygments_lexer": "ipython3",
   "version": "3.8.3"
  }
 },
 "nbformat": 4,
 "nbformat_minor": 2
}
