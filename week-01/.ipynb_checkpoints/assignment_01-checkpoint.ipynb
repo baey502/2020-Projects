{
 "cells": [
  {
   "cell_type": "markdown",
   "metadata": {},
   "source": [
    "### Assignment 1: Create your own calculator!"
   ]
  },
  {
   "cell_type": "markdown",
   "metadata": {},
   "source": [
    "Before we actually code in Python, please write out how you might build this with code in plain English (pseudocoding!). Pseudocode is an important part of programming and is used in planning an algorithm with sketching out the structure of the program before the actual coding takes place."
   ]
  },
  {
   "cell_type": "code",
   "execution_count": 2,
   "metadata": {},
   "outputs": [],
   "source": [
    "# Psuedocode:\n",
    "# The calculator will have three user input variables:\n",
    "# the first variable will store the first number,\n",
    "# the second variable will store the mathematical operator that will perform on the numbers,\n",
    "# and the third variable will store the second number."
   ]
  },
  {
   "cell_type": "markdown",
   "metadata": {},
   "source": [
    "__Using conditionals, operators, and functions, try creating a working calculator! We will go over the solution next week.__\n",
    "\n",
    "_Things to consider:_\n",
    "\n",
    "<li>You may want to ask for user input: use the Python input() method. If you're asking for numbers, you may need to change the input value from a string to a number. Consider using int(x) and float(x) to do so.</li>\n",
    "<li>Use the operators with the conditionals we learned in class! Ex) if user_input == '*': print(x * y) </li>\n",
    "<li>Use if...elif conditionals!</li>\n",
    "<li>Before you put your code into a function for reusability purposes, hard code first to make sure your logic is working</li>\n",
    "<li>Keep it simple and use the four operators we went over in class: +, -, *, /</li>"
   ]
  },
  {
   "cell_type": "code",
   "execution_count": 2,
   "metadata": {},
   "outputs": [
    {
     "name": "stdout",
     "output_type": "stream",
     "text": [
      "Enter first number:5\n",
      "Enter operator:/\n",
      "Enter second number:2\n",
      "2.5\n"
     ]
    }
   ],
   "source": [
    "# code down here:\n",
    "\n",
    "x = int(input(\"Enter first number:\")) # wrap around integer method to convert strings into numbers\n",
    "operator = input(\"Enter operator:\") # +-*/\n",
    "y = int(input(\"Enter second number:\"))\n",
    "\n",
    "if operator == \"+\":\n",
    "    print (x + y)\n",
    "elif operator == \"-\":\n",
    "    print (x - y)\n",
    "elif operator == \"*\":\n",
    "    print (x * y)\n",
    "elif operator == \"/\":\n",
    "    print (x / y)\n",
    "else:\n",
    "    print (\"something is wrong\")"
   ]
  },
  {
   "cell_type": "code",
   "execution_count": null,
   "metadata": {},
   "outputs": [],
   "source": []
  }
 ],
 "metadata": {
  "kernelspec": {
   "display_name": "Python 3",
   "language": "python",
   "name": "python3"
  },
  "language_info": {
   "codemirror_mode": {
    "name": "ipython",
    "version": 3
   },
   "file_extension": ".py",
   "mimetype": "text/x-python",
   "name": "python",
   "nbconvert_exporter": "python",
   "pygments_lexer": "ipython3",
   "version": "3.8.3"
  }
 },
 "nbformat": 4,
 "nbformat_minor": 4
}
