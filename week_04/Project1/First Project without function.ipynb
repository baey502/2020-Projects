{
 "cells": [
  {
   "cell_type": "code",
   "execution_count": null,
   "metadata": {},
   "outputs": [],
   "source": [
    "import pygame\n",
    "import sys\n",
    "import random"
   ]
  },
  {
   "cell_type": "code",
   "execution_count": null,
   "metadata": {},
   "outputs": [],
   "source": [
    "pygame.init()\n",
    "clock = pygame.time.Clock()"
   ]
  },
  {
   "cell_type": "code",
   "execution_count": null,
   "metadata": {},
   "outputs": [],
   "source": [
    "screen_width = 800\n",
    "screen_height = 600\n",
    "screen = pygame.display.set_mode((screen_width, screen_height))\n",
    "pygame.display.set_caption('pingpong without function')"
   ]
  },
  {
   "cell_type": "code",
   "execution_count": null,
   "metadata": {},
   "outputs": [],
   "source": [
    "ball = pygame.Rect(screen_width/2-15, screen_height/2-15,30, 30)\n",
    "player = pygame.Rect(screen_width-20, screen_height/2-70,10, 140)\n",
    "opponent = pygame.Rect(10, screen_height/2-70, 10,140)"
   ]
  },
  {
   "cell_type": "code",
   "execution_count": null,
   "metadata": {},
   "outputs": [],
   "source": [
    "bg_color = pygame.Color('grey12')\n",
    "light_grey = (200, 200, 200)"
   ]
  },
  {
   "cell_type": "code",
   "execution_count": null,
   "metadata": {},
   "outputs": [],
   "source": [
    "ball_speed_x = 7 * random.choice((1, -1))\n",
    "ball_speed_y = 7 * random.choice((1, -1))\n",
    "player_speed = 0\n",
    "opponent_speed =7"
   ]
  },
  {
   "cell_type": "code",
   "execution_count": null,
   "metadata": {},
   "outputs": [],
   "source": [
    "while True:\n",
    "    for event in pygame.event.get():\n",
    "        if event.type == pygame.QUIT: \n",
    "            pygame.quit()\n",
    "            sys.exit()\n",
    "        if event.type == pygame.KEYDOWN:\n",
    "            if event.key == pygame.K_DOWN:\n",
    "                player_speed += 7\n",
    "            if event.key == pygame.K_UP:\n",
    "                player_speed -=7\n",
    "        if event.type == pygame.KEYUP:\n",
    "            if event.key == pygame.K_DOWN:\n",
    "                player_speed -= 7\n",
    "            if event.key == pygame.K_UP:\n",
    "                player_speed += 7\n",
    "                \n",
    "    #ball moving\n",
    "    global ball_speed_x, ball_speed_y\n",
    "    ball.x += ball_speed_x\n",
    "    ball.y += ball_speed_y\n",
    "    if ball.top <=0 or ball.bottom >= screen_height:\n",
    "        ball_speed_y *= -1\n",
    "    if ball.left <=0 or ball.right >= screen_width:\n",
    "        ball.center = (screen_width/2, screen_height/2)\n",
    "        ball_speed_y *= random.choice((1, -1))\n",
    "        ball_speed_x *= random.choice((1, -1))\n",
    "    if ball.colliderect(player) or ball.colliderect(opponent):\n",
    "        ball_speed_x *= -1 \n",
    "        \n",
    "    #player moving\n",
    "    player.y += player_speed\n",
    "    if player.top <= 0:\n",
    "        player.top = 0\n",
    "    if player.bottom >= screen_height:\n",
    "        player.bottom = screen_height\n",
    "    \n",
    "    #opponent moving\n",
    "    if opponent.top < ball.y:\n",
    "        opponent.top += opponent_speed\n",
    "    if opponent.bottom > ball.y:\n",
    "        opponent.bottom -= opponent_speed\n",
    "    if opponent.bottom >= screen_height:\n",
    "        opponent.bottom = screen_height\n",
    "    \n",
    "    ##pygame.draw(surface,color,rect)\n",
    "    screen.fill(bg_color) #drawn first and bottom\n",
    "    pygame.draw.rect(screen,light_grey, player) \n",
    "    pygame.draw.rect(screen,light_grey, opponent)\n",
    "    pygame.draw.ellipse(screen,light_grey, ball)\n",
    "    pygame.draw.aaline(screen, light_grey, (screen_width/2,0), (screen_width/2,screen_height)) ##drawn last and top\n",
    "    \n",
    "    pygame.display.flip() #updates window\n",
    "    clock.tick(60) ##limits how fast code runs"
   ]
  }
 ],
 "metadata": {
  "kernelspec": {
   "display_name": "Python 3",
   "language": "python",
   "name": "python3"
  },
  "language_info": {
   "codemirror_mode": {
    "name": "ipython",
    "version": 3
   },
   "file_extension": ".py",
   "mimetype": "text/x-python",
   "name": "python",
   "nbconvert_exporter": "python",
   "pygments_lexer": "ipython3",
   "version": "3.8.3"
  }
 },
 "nbformat": 4,
 "nbformat_minor": 4
}
