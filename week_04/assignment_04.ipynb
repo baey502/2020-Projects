{
 "cells": [
  {
   "cell_type": "markdown",
   "metadata": {},
   "source": [
    "### Analyzing the New York Times comments section\n",
    "\n",
    "For this assignment, inspect the <a href=\"https://developer.nytimes.com/\">NYT API</a>, specifically their API for article comments. We'll be completing two major tasks:\n",
    "- find out where people are commenting from \n",
    "- get the most common words from a specific comment "
   ]
  },
  {
   "cell_type": "code",
   "execution_count": null,
   "metadata": {},
   "outputs": [],
   "source": [
    "# import requests and json\n",
    "import requests\n",
    "import json\n",
    "\n",
    "# put your custom settings for the API call here\n",
    "# you MUST provide an API key, offset value, and article URL\n",
    "# get your api key from here: https://developer.nytimes.com/\n",
    "api_key = \"wTWy3AZvSW5xrM2AXO5WNBwep9uGFAZI\"\n",
    "offset = str(1)\n",
    "article_url = \"https://www.nytimes.com/2020/06/12/opinion/sunday/floyd-protests-white-supremacy.html\"\n",
    "sort = \"reader\"\n",
    "\n",
    "# show the API url with all the settings listed out\n",
    "api_url = \"https://api.nytimes.com/svc/community/v3/user-content/url.json?api-key=%s&offset=%s&sort=%s&url=%s\" %(api_key, offset, sort, article_url)\n",
    "print(api_url)"
   ]
  },
  {
   "cell_type": "code",
   "execution_count": null,
   "metadata": {},
   "outputs": [],
   "source": [
    "# calling the API with requests\n",
    "response = requests.get(api_url)\n",
    "# creating a variable called data to hold the json formatted result\n",
    "data = response.json()"
   ]
  },
  {
   "cell_type": "code",
   "execution_count": null,
   "metadata": {},
   "outputs": [],
   "source": [
    "# look at all of the data\n",
    "# it's a lot of nested dictionaries!\n",
    "print(type(data))\n",
    "data"
   ]
  },
  {
   "cell_type": "code",
   "execution_count": null,
   "metadata": {},
   "outputs": [],
   "source": [
    "# isolate just the comments dictionary"
   ]
  },
  {
   "cell_type": "code",
   "execution_count": null,
   "metadata": {},
   "outputs": [],
   "source": [
    "# look at just one of the comments"
   ]
  },
  {
   "cell_type": "code",
   "execution_count": null,
   "metadata": {},
   "outputs": [],
   "source": [
    "# lowercase the comment and remove punctuation\n",
    "# you can use the code we wrote for the lexical richness exercise to do this"
   ]
  },
  {
   "cell_type": "code",
   "execution_count": null,
   "metadata": {},
   "outputs": [],
   "source": [
    "# split text into list\n",
    "\n",
    "# create a dictionary of word frequencies!\n",
    "\n",
    "# go through each word in text_data\n",
    "    # if the word isn't in the dictionary, add it as a key AND give it a value of 1\n",
    "    # if the word IS in the dictionary, add 1 to the value"
   ]
  },
  {
   "cell_type": "code",
   "execution_count": null,
   "metadata": {},
   "outputs": [],
   "source": [
    "# try and plot out a chart of the dictionary we just created!"
   ]
  }
 ],
 "metadata": {
  "kernelspec": {
   "display_name": "Python 3",
   "language": "python",
   "name": "python3"
  },
  "language_info": {
   "codemirror_mode": {
    "name": "ipython",
    "version": 3
   },
   "file_extension": ".py",
   "mimetype": "text/x-python",
   "name": "python",
   "nbconvert_exporter": "python",
   "pygments_lexer": "ipython3",
   "version": "3.8.3"
  }
 },
 "nbformat": 4,
 "nbformat_minor": 4
}
