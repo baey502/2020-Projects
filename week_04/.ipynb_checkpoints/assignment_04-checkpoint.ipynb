{
 "cells": [
  {
   "cell_type": "markdown",
   "metadata": {},
   "source": [
    "### Analyzing the New York Times comments section\n",
    "\n",
    "For this assignment, inspect the <a href=\"https://developer.nytimes.com/\">NYT API</a>, specifically their API for article comments. We'll be completing two major tasks:\n",
    "- find out where people are commenting from \n",
    "- get the most common words from a specific comment "
   ]
  },
  {
   "cell_type": "code",
   "execution_count": null,
   "metadata": {},
   "outputs": [],
   "source": [
    "# import requests and json\n",
    "import requests\n",
    "import json\n",
    "\n",
    "# put your custom settings for the API call here\n",
    "# you MUST provide an API key, offset value, and article URL\n",
    "# get your api key from here: https://developer.nytimes.com/\n",
    "api_key = \"wTWy3AZvSW5xrM2AXO5WNBwep9uGFAZI\"\n",
    "offset = str(1)\n",
    "article_url = \"https://www.nytimes.com/2020/06/12/opinion/sunday/floyd-protests-white-supremacy.html\"\n",
    "sort = \"reader\"\n",
    "\n",
    "# show the API url with all the settings listed out\n",
    "api_url = \"https://api.nytimes.com/svc/community/v3/user-content/url.json?api-key=%s&offset=%s&sort=%s&url=%s\" %(api_key, offset, sort, article_url)\n",
    "print(api_url)"
   ]
  },
  {
   "cell_type": "code",
   "execution_count": null,
   "metadata": {},
   "outputs": [],
   "source": [
    "# calling the API with requests\n",
    "response = requests.get(api_url)\n",
    "# creating a variable called data to hold the json formatted result\n",
    "data = response.json()"
   ]
  },
  {
   "cell_type": "code",
   "execution_count": null,
   "metadata": {},
   "outputs": [],
   "source": [
    "# look at all of the data\n",
    "# it's a lot of nested dictionaries!\n",
    "print(type(data))\n",
    "data"
   ]
  },
  {
   "cell_type": "code",
   "execution_count": null,
   "metadata": {},
   "outputs": [],
   "source": [
    "# isolate just the comments dictionary\n",
    "results = data['results']\n",
    "comments = results['comments']\n",
    "comments\n"
   ]
  },
  {
   "cell_type": "code",
   "execution_count": null,
   "metadata": {},
   "outputs": [],
   "source": [
    "# look at just one of the comments\n",
    "justone = comments[8]\n",
    "one_comment = justone['commentBody']\n",
    "one_comment"
   ]
  },
  {
   "cell_type": "code",
   "execution_count": null,
   "metadata": {},
   "outputs": [],
   "source": [
    "# lowercase the comment and remove punctuation\n",
    "# you can use the code we wrote for the lexical richness exercise to do this\n",
    "no_punct = one_comment.replace('.','').replace('?','').replace('\"','').replace(',','').replace(\"'\",'')\n",
    "lowercase = no_punct.lower()\n",
    "lowercase"
   ]
  },
  {
   "cell_type": "code",
   "execution_count": null,
   "metadata": {},
   "outputs": [],
   "source": [
    "# split text into list\n",
    "# create a dictionary of word frequencies!\n",
    "# go through each word in text_data\n",
    "    # if the word isn't in the dictionary, add it as a key AND give it a value of 1\n",
    "    # if the word IS in the dictionary, add 1 to the value\n",
    "    \n",
    "listed_text = lowercase.split()\n",
    "listed_text\n",
    "\n",
    "text_data = {}\n",
    "\n",
    "for i in listed_text:\n",
    "    if i not in text_data.keys():\n",
    "        text_data[i] = 0\n",
    "    text_data[i] = text_data[i] + 1\n",
    "    \n",
    "print(text_data)"
   ]
  },
  {
   "cell_type": "code",
   "execution_count": null,
   "metadata": {},
   "outputs": [],
   "source": [
    "import matplotlib.pyplot as plt\n",
    "# import numpy as np\n",
    "\n",
    "# plt.rcdefaults()\n",
    "# fig, ax = plt.subplots()\n",
    "# text_data.values()\n",
    "# text_data.keys()\n",
    "\n",
    "plt.barh(['to', 'paraphrase', 'someone', 'on', 'twitter', 'taking', 'down', 'statues', 'is', 'the', 'equivalent', 'of', 'replacing', 'that', 'farrah', 'fawcett', 'or', 'rick', 'springfield', 'poster', 'in', 'your', 'bedroom', 'weve', 'moved', 'as', 'a', 'country', 'our', 'surroundings', 'should', 'reflect'],[1, 1, 1, 2, 1, 1, 1, 1, 1, 1, 1, 1, 1, 2, 1, 1, 1, 1, 1, 1, 1, 1, 1, 1, 1, 1, 1, 1, 1, 1, 1, 1], color=\"blue\")\n",
    "plt.xlabel('Frequency of Word')\n",
    "plt.title('Frequency of Words')\n",
    "plt.show\n"
   ]
  },
  {
   "cell_type": "code",
   "execution_count": null,
   "metadata": {},
   "outputs": [],
   "source": []
  }
 ],
 "metadata": {
  "kernelspec": {
   "display_name": "Python 3",
   "language": "python",
   "name": "python3"
  },
  "language_info": {
   "codemirror_mode": {
    "name": "ipython",
    "version": 3
   },
   "file_extension": ".py",
   "mimetype": "text/x-python",
   "name": "python",
   "nbconvert_exporter": "python",
   "pygments_lexer": "ipython3",
   "version": "3.8.3"
  }
 },
 "nbformat": 4,
 "nbformat_minor": 4
}
